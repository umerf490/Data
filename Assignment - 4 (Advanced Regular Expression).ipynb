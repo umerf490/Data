{
 "cells": [
  {
   "cell_type": "markdown",
   "id": "ff981fe7",
   "metadata": {},
   "source": [
    "# Assignment 1: Extracting Phone Numbers\n",
    "Raw Text: Extract all valid Pakistani phone numbers from a given text.\n",
    "\n",
    "Example:\n",
    "\n",
    "Text: Please contact me at 0301-1234567 or 042-35678901 for further details."
   ]
  },
  {
   "cell_type": "markdown",
   "id": "c80125f9",
   "metadata": {},
   "source": [
    ". any thing except \\n\n",
    "* zero or many\n",
    "+ one or may\n",
    "^ start"
   ]
  },
  {
   "cell_type": "code",
   "execution_count": 12,
   "id": "acfcbd72",
   "metadata": {},
   "outputs": [],
   "source": [
    "import re"
   ]
  },
  {
   "cell_type": "code",
   "execution_count": 11,
   "id": "d01a96fa",
   "metadata": {},
   "outputs": [
    {
     "data": {
      "text/plain": [
       "['0301-1234567 or 042-35678901']"
      ]
     },
     "execution_count": 11,
     "metadata": {},
     "output_type": "execute_result"
    }
   ],
   "source": [
    "import re\n",
    "text = \"\"\"Please contact me at 0301-1234567 or 042-35678901 for further details.\"\"\"\n",
    "\n",
    "pattern = r\"0.+1\"\n",
    "\n",
    "\n",
    "l = re.findall(pattern, text, re.M) \n",
    "l"
   ]
  },
  {
   "cell_type": "markdown",
   "id": "f48eb700",
   "metadata": {},
   "source": [
    "# Assignment 2: Validating Email Addresses\n",
    "\n",
    "Raw Text: Validate email addresses according to Pakistani domain extensions (.pk).\n",
    "\n",
    "Example:\n",
    "\n",
    "Text: Contact us at info@example.com or support@domain.pk for assistance."
   ]
  },
  {
   "cell_type": "code",
   "execution_count": 17,
   "id": "0f2e49a7",
   "metadata": {},
   "outputs": [
    {
     "data": {
      "text/plain": [
       "['support@domain.pk']"
      ]
     },
     "execution_count": 17,
     "metadata": {},
     "output_type": "execute_result"
    }
   ],
   "source": [
    "import re\n",
    "\n",
    "word = \"\"\"Contact us at info@example.com or support@domain.pk for assistance. alph@domain.pk\"\"\"\n",
    "\n",
    "pattern = r\"support@domain.pk\"\n",
    "\n",
    "l = re.findall(pattern, word, re.M)\n",
    "l"
   ]
  },
  {
   "cell_type": "markdown",
   "id": "e9cafbf7",
   "metadata": {},
   "source": [
    "# Assignment 3: Extracting CNIC Numbers\n",
    "\n",
    "Raw Text: Extract all Pakistani CNIC (Computerized National Identity Card) numbers from a given text.\n",
    "\n",
    "Example:\n",
    "\n",
    "Text: My CNIC is 12345-6789012-3 and another one is 34567-8901234-5."
   ]
  },
  {
   "cell_type": "code",
   "execution_count": 26,
   "id": "976e2d4f",
   "metadata": {},
   "outputs": [
    {
     "data": {
      "text/plain": [
       "['12345-6789012-3', '34567-8901234-5']"
      ]
     },
     "execution_count": 26,
     "metadata": {},
     "output_type": "execute_result"
    }
   ],
   "source": [
    "import re\n",
    "\n",
    "numbers = \"\"\"My CNIC is 12345-6789012-3 and another one is 34567-8901234-5\"\"\"\n",
    "\n",
    "pattern = r\"\\d\\d\\d\\d\\d-\\d\\d\\d\\d\\d\\d\\d-\\d\"\n",
    "\n",
    "l = re.findall(pattern, numbers)\n",
    "\n",
    "l"
   ]
  },
  {
   "cell_type": "markdown",
   "id": "c698c804",
   "metadata": {},
   "source": [
    "# Assignment 4: Identifying Urdu Words\n",
    "\n",
    "Raw Text: Identify and extract Urdu words from a mixed English-Urdu text.\n",
    "\n",
    "Example:\n",
    "\n",
    "Text: یہ sentence میں کچھ English words بھی ہیں۔"
   ]
  },
  {
   "cell_type": "code",
   "execution_count": 64,
   "id": "2635de18",
   "metadata": {},
   "outputs": [
    {
     "data": {
      "text/plain": [
       "['یہ', 'میں', 'کچھ', 'بھی', 'ہیں']"
      ]
     },
     "execution_count": 64,
     "metadata": {},
     "output_type": "execute_result"
    }
   ],
   "source": [
    "import re\n",
    "\n",
    "numbers = \"\"\"یہ sentence میں کچھ English words بھی ہیں۔\"\"\"\n",
    "\n",
    "pattern = r\"\\b([^\\s\\-a-zA-Z]+\\b)\"\n",
    "\n",
    "l = re.findall(pattern, numbers)\n",
    "\n",
    "l"
   ]
  },
  {
   "cell_type": "markdown",
   "id": "688871ba",
   "metadata": {},
   "source": [
    "#### Assignment 5: Finding Dates\n",
    "\n",
    "**Raw Text:** \n",
    "Find and extract dates in the format DD-MM-YYYY from a given text.\n",
    "\n",
    "**Example:**\n",
    "```\n",
    "Text: The event will take place on 15-08-2023 and 23-09-2023.\n",
    "``` "
   ]
  },
  {
   "cell_type": "code",
   "execution_count": 70,
   "id": "11724709",
   "metadata": {},
   "outputs": [
    {
     "data": {
      "text/plain": [
       "['15-08-2023', '23-09-2023']"
      ]
     },
     "execution_count": 70,
     "metadata": {},
     "output_type": "execute_result"
    }
   ],
   "source": [
    "import re\n",
    "\n",
    "raw = \"\"\"The event will take place on 15-08-2023 and 23-09-2023.\"\"\"\n",
    "\n",
    "pattern = \"\\d\\d-\\d\\d-\\d\\d\\d\\d\"\n",
    "\n",
    "l = re.findall(pattern, raw)\n",
    "\n",
    "l"
   ]
  },
  {
   "cell_type": "markdown",
   "id": "77e10fac",
   "metadata": {},
   "source": [
    "# ### Assignment 6: Extracting URLs\n",
    "\n",
    "**Raw Text:** \n",
    "Extract all URLs from a text that belong to Pakistani domains.\n",
    "\n",
    "**Example:**\n",
    "```\n",
    "Text: Visit http://www.example.pk or https://website.com.pk for more information.\n",
    "```"
   ]
  },
  {
   "cell_type": "code",
   "execution_count": 74,
   "id": "0d898541",
   "metadata": {},
   "outputs": [
    {
     "data": {
      "text/plain": [
       "['http://www.example.pk or https://website.com.pk']"
      ]
     },
     "execution_count": 74,
     "metadata": {},
     "output_type": "execute_result"
    }
   ],
   "source": [
    "import re\n",
    "\n",
    "link = \"\"\"Visit http://www.example.pk or https://website.com.pk for more information.\"\"\"\n",
    "\n",
    "pattern = \"h.+.pk\"\n",
    "\n",
    "l = re.findall(pattern, link)\n",
    "\n",
    "l"
   ]
  },
  {
   "cell_type": "markdown",
   "id": "99489078",
   "metadata": {},
   "source": [
    "# Assignment 7: Analyzing Currency\n",
    "\n",
    "Raw Text: Extract and analyze currency amounts in Pakistani Rupees (PKR) from a given text.\n",
    "\n",
    "Example:\n",
    "\n",
    "Text: The product costs PKR 1500, while the deluxe version is priced at Rs. 2500. "
   ]
  },
  {
   "cell_type": "code",
   "execution_count": 86,
   "id": "c39bc81d",
   "metadata": {},
   "outputs": [
    {
     "data": {
      "text/plain": [
       "['1500', '2500']"
      ]
     },
     "execution_count": 86,
     "metadata": {},
     "output_type": "execute_result"
    }
   ],
   "source": [
    "import re\n",
    "\n",
    "letter = \"\"\"The product costs PKR 1500, while the deluxe version is priced at Rs. 2500.\"\"\"\n",
    "\n",
    "pattern = r\"\\d\\d\\d\\d\"\n",
    "\n",
    "l = re.findall(pattern, letter)\n",
    "\n",
    "l"
   ]
  },
  {
   "cell_type": "markdown",
   "id": "9ba726c0",
   "metadata": {},
   "source": [
    "# Assignment 8: Removing Punctuation\n",
    "\n",
    "Raw Text: Remove all punctuation marks from a text while preserving Urdu characters.\n",
    "\n",
    "Example:\n",
    "\n",
    "Text: کیا! آپ, یہاں؟"
   ]
  },
  {
   "cell_type": "code",
   "execution_count": 95,
   "id": "9f96032e",
   "metadata": {},
   "outputs": [
    {
     "data": {
      "text/plain": [
       "['کیا', 'آپ', 'یہاں']"
      ]
     },
     "execution_count": 95,
     "metadata": {},
     "output_type": "execute_result"
    }
   ],
   "source": [
    "import re\n",
    "\n",
    "word = \"\"\"کیا! آپ, یہاں؟\"\"\"\n",
    "\n",
    "pattern = r\"\\b([^\\W]+)\"\n",
    "\n",
    "l = re.findall(pattern, word)\n",
    "\n",
    "l"
   ]
  },
  {
   "cell_type": "markdown",
   "id": "cba9aa2a",
   "metadata": {},
   "source": [
    "# Assignment 9: Extracting City Names\n",
    "Raw Text: Extract names of Pakistani cities from a given text.\n",
    "\n",
    "Example:\n",
    "\n",
    "Text: Lahore, Karachi, Islamabad, and Peshawar are major cities of Pakistan."
   ]
  },
  {
   "cell_type": "code",
   "execution_count": 121,
   "id": "7d6ed116",
   "metadata": {},
   "outputs": [
    {
     "data": {
      "text/plain": [
       "[('Lahore', 'Karachi', 'Islamabad', 'Peshawar')]"
      ]
     },
     "execution_count": 121,
     "metadata": {},
     "output_type": "execute_result"
    }
   ],
   "source": [
    "import re\n",
    "\n",
    "city = \"\"\"Lahore, Karachi, Islamabad, and Peshawar are major cities of Pakistan.\"\"\"\n",
    "\n",
    "pattern = r\"\\b(?:([\\w]+)\\,\\s([\\w]+)\\,\\s([\\w]+)\\,\\sand\\s([\\w]+))\\b\"\n",
    "\n",
    "l = re.findall(pattern, city)\n",
    "\n",
    "l"
   ]
  },
  {
   "cell_type": "markdown",
   "id": "940f3c3d",
   "metadata": {},
   "source": [
    "# Assignment 10: Analyzing Vehicle Numbers\n",
    "\n",
    "Raw Text: Identify and extract Pakistani vehicle registration numbers (e.g., ABC-123) from a text.\n",
    "\n",
    "Example:\n",
    "\n",
    "Text: I saw a car with the number plate LEA-567 near the market."
   ]
  },
  {
   "cell_type": "code",
   "execution_count": 127,
   "id": "98a0f872",
   "metadata": {},
   "outputs": [
    {
     "data": {
      "text/plain": [
       "['LEA-567']"
      ]
     },
     "execution_count": 127,
     "metadata": {},
     "output_type": "execute_result"
    }
   ],
   "source": [
    "import re\n",
    "\n",
    "words = \"\"\"I saw a car with the number plate LEA-567 near the market.\"\"\"\n",
    "\n",
    "pattern = r\"\\b(\\D{3}\\-\\d{3})\\b\"\n",
    "\n",
    "l = re.findall(pattern, words)\n",
    "\n",
    "l"
   ]
  },
  {
   "cell_type": "code",
   "execution_count": null,
   "id": "d230ba40",
   "metadata": {},
   "outputs": [],
   "source": []
  }
 ],
 "metadata": {
  "kernelspec": {
   "display_name": "Python 3 (ipykernel)",
   "language": "python",
   "name": "python3"
  },
  "language_info": {
   "codemirror_mode": {
    "name": "ipython",
    "version": 3
   },
   "file_extension": ".py",
   "mimetype": "text/x-python",
   "name": "python",
   "nbconvert_exporter": "python",
   "pygments_lexer": "ipython3",
   "version": "3.11.3"
  }
 },
 "nbformat": 4,
 "nbformat_minor": 5
}
