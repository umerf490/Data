{
 "cells": [
  {
   "cell_type": "markdown",
   "id": "bfe8d042",
   "metadata": {},
   "source": [
    "# **Assignment 1: String Concatenation and Formatting**"
   ]
  },
  {
   "cell_type": "code",
   "execution_count": 20,
   "id": "23b848a4",
   "metadata": {},
   "outputs": [
    {
     "name": "stdout",
     "output_type": "stream",
     "text": [
      "My name is Muhammad Umer Farooq\n",
      "I am 27 years old \n",
      "I live in Pakistan\n"
     ]
    }
   ],
   "source": [
    "name = \"Muhammad Umer Farooq\"\n",
    "age = \"27\"\n",
    "country = \"Pakistan\"\n",
    "\n",
    "print(\"My name is \" + name + \\\n",
    "      \"\\nI am \" + age + \" years old \" + \\\n",
    "      \"\\nI live in \" + country)"
   ]
  },
  {
   "cell_type": "markdown",
   "id": "e1f3a07f",
   "metadata": {},
   "source": [
    "# **Assignment 2: String Formatting using `.format()`"
   ]
  },
  {
   "cell_type": "code",
   "execution_count": 10,
   "id": "e10113a9",
   "metadata": {},
   "outputs": [
    {
     "name": "stdout",
     "output_type": "stream",
     "text": [
      "I bought 2 laptop at $75000 each, for a total of $ 150000.\n"
     ]
    }
   ],
   "source": [
    "item = \"laptop\"\n",
    "price = 75000\n",
    "quantity = 2\n",
    "total_cost = price * quantity\n",
    "\n",
    "product = \"I bought {} {} at ${} each, for a total of $ {}.\". format(quantity,item,price,total_cost)\n",
    "print(product)"
   ]
  },
  {
   "cell_type": "markdown",
   "id": "3edd1ccf",
   "metadata": {},
   "source": [
    "# **Assignment 3: String Interpolation using `f''`"
   ]
  },
  {
   "cell_type": "code",
   "execution_count": 12,
   "id": "45c2589b",
   "metadata": {},
   "outputs": [
    {
     "name": "stdout",
     "output_type": "stream",
     "text": [
      " The temperature in Karachi is 36 degree Celsius \n"
     ]
    }
   ],
   "source": [
    "city = \"Karachi\"\n",
    "temp = \"36 degree Celsius\"\n",
    "\n",
    "weather = f\"\"\" The temperature in {city} is {temp} \"\"\"\n",
    "\n",
    "print(weather)"
   ]
  },
  {
   "cell_type": "markdown",
   "id": "a12be1fd",
   "metadata": {},
   "source": [
    "# **Assignment 4: String Formatting using `%()`"
   ]
  },
  {
   "cell_type": "code",
   "execution_count": 66,
   "id": "66065f7d",
   "metadata": {},
   "outputs": [
    {
     "name": "stdout",
     "output_type": "stream",
     "text": [
      "My name is  Muhammad Umer Farooq. I am 27 years old.\n"
     ]
    }
   ],
   "source": [
    "First_name = \"Muhammad Umer\"\n",
    "Last_name = \"Farooq\"\n",
    "Birth_Year = 1996\n",
    "Current_Year = 2023\n",
    "Age = Current_Year - Birth_Year\n",
    "\n",
    "info = \"My name is  %s %s. I am %d years old.\" %(First_name,Last_name, Age ) \n",
    "\n",
    "print(info)\n",
    "\n"
   ]
  },
  {
   "cell_type": "markdown",
   "id": "cf7da4c5",
   "metadata": {},
   "source": [
    "# **Assignment 5: Combining Formatting Methods**# "
   ]
  },
  {
   "cell_type": "code",
   "execution_count": 19,
   "id": "63bf9135",
   "metadata": {},
   "outputs": [
    {
     "name": "stdout",
     "output_type": "stream",
     "text": [
      "Product Name: Smartphone \n",
      "Original Price: 65000 \n",
      "Discount Percentage: 40\n",
      "Discounted Price: 39000.0\n"
     ]
    }
   ],
   "source": [
    "product = \"Smartphone\"\n",
    "discount = 40\n",
    "original_price = 65000\n",
    "discounted_price = original_price * (1 - discount / 100)\n",
    "\n",
    "details = f\"\"\"Product Name: {product} \n",
    "Original Price: {original_price} \n",
    "Discount Percentage: {discount}\n",
    "Discounted Price: {discounted_price}\"\"\"\n",
    "\n",
    "print(details)"
   ]
  },
  {
   "cell_type": "code",
   "execution_count": 75,
   "id": "50184e10",
   "metadata": {},
   "outputs": [
    {
     "name": "stdout",
     "output_type": "stream",
     "text": [
      "I bought denim shirt whose price is 3000 but after discount it was 2850.0\n"
     ]
    }
   ],
   "source": [
    "product = \"denim shirt\"\n",
    "discount = 5\n",
    "original_price = 3000\n",
    "discounted_price = original_price * (1 - discount / 100)\n",
    "\n",
    "print(\"I bought \" + product + \" whose price is \" + str(original_price) + \" but after discount it was \" + str(discounted_price))"
   ]
  },
  {
   "cell_type": "code",
   "execution_count": null,
   "id": "5b766b07",
   "metadata": {},
   "outputs": [],
   "source": []
  }
 ],
 "metadata": {
  "kernelspec": {
   "display_name": "Python 3 (ipykernel)",
   "language": "python",
   "name": "python3"
  },
  "language_info": {
   "codemirror_mode": {
    "name": "ipython",
    "version": 3
   },
   "file_extension": ".py",
   "mimetype": "text/x-python",
   "name": "python",
   "nbconvert_exporter": "python",
   "pygments_lexer": "ipython3",
   "version": "3.11.3"
  }
 },
 "nbformat": 4,
 "nbformat_minor": 5
}
