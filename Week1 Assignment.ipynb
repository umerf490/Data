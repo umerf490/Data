{
 "cells": [
  {
   "cell_type": "markdown",
   "id": "d2acb8ac",
   "metadata": {},
   "source": [
    "1) Write hello world python program using any five methods which we have learned in week-1 class\n",
    "2) upload your own GitHub repository\n",
    "3) create 30 to 60 seconds video above program result and upload on LinkedIn\n",
    "4) create one assignment1.txt and paste all links in this file and upload here\n",
    "\n",
    "Good Luck!"
   ]
  },
  {
   "cell_type": "code",
   "execution_count": 2,
   "id": "e4abf2d6",
   "metadata": {},
   "outputs": [],
   "source": [
    "a = \"Hello World\""
   ]
  },
  {
   "cell_type": "code",
   "execution_count": 4,
   "id": "e7c7b265",
   "metadata": {},
   "outputs": [
    {
     "name": "stdout",
     "output_type": "stream",
     "text": [
      "The answer is  Hello World\n"
     ]
    }
   ],
   "source": [
    "print(\"The answer is \", a)"
   ]
  }
 ],
 "metadata": {
  "kernelspec": {
   "display_name": "Python 3 (ipykernel)",
   "language": "python",
   "name": "python3"
  },
  "language_info": {
   "codemirror_mode": {
    "name": "ipython",
    "version": 3
   },
   "file_extension": ".py",
   "mimetype": "text/x-python",
   "name": "python",
   "nbconvert_exporter": "python",
   "pygments_lexer": "ipython3",
   "version": "3.11.3"
  }
 },
 "nbformat": 4,
 "nbformat_minor": 5
}
