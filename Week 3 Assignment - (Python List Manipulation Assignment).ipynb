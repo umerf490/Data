{
 "cells": [
  {
   "cell_type": "markdown",
   "id": "f7f9f495",
   "metadata": {},
   "source": [
    "# Question 1: Basic List Operations"
   ]
  },
  {
   "cell_type": "markdown",
   "id": "1b31a6da",
   "metadata": {},
   "source": [
    "a) Create a list named `fruits` containing the following items: \"apple\", \"banana\", \"orange\", \"grape\", \"kiwi\"."
   ]
  },
  {
   "cell_type": "code",
   "execution_count": 2,
   "id": "3cb73e3d",
   "metadata": {},
   "outputs": [
    {
     "name": "stdout",
     "output_type": "stream",
     "text": [
      "['apple', 'banana', 'orange', 'grape', 'kiwi']\n"
     ]
    }
   ],
   "source": [
    "fruits = [\"apple\", \"banana\", \"orange\", \"grape\", \"kiwi\"]\n",
    "\n",
    "print(fruits)"
   ]
  },
  {
   "cell_type": "markdown",
   "id": "8770aa28",
   "metadata": {},
   "source": [
    "b) Add \"pear\" to the end of the list."
   ]
  },
  {
   "cell_type": "code",
   "execution_count": 17,
   "id": "881e667b",
   "metadata": {},
   "outputs": [
    {
     "name": "stdout",
     "output_type": "stream",
     "text": [
      "['apple', 'banana', 'mango', 'grape', 'kiwi', 'peach', 'pear']\n"
     ]
    }
   ],
   "source": [
    "fruits.append(\"pear\")\n",
    "\n",
    "print(fruits)"
   ]
  },
  {
   "cell_type": "markdown",
   "id": "f9b8ed0f",
   "metadata": {},
   "source": [
    "c) Insert \"mango\" at the second position in the list."
   ]
  },
  {
   "cell_type": "code",
   "execution_count": 30,
   "id": "b8686aef",
   "metadata": {},
   "outputs": [
    {
     "name": "stdout",
     "output_type": "stream",
     "text": [
      "['apple', 'mango', 'banana', 'orange', 'grape', 'kiwi']\n"
     ]
    }
   ],
   "source": [
    "fruits = [\"apple\", \"banana\", \"orange\", \"grape\", \"kiwi\"]\n",
    "\n",
    "fruits.insert(1, 'mango')\n",
    "\n",
    "print(fruits)"
   ]
  },
  {
   "cell_type": "markdown",
   "id": "3f2068ed",
   "metadata": {},
   "source": [
    "d) Remove \"orange\" from the list."
   ]
  },
  {
   "cell_type": "code",
   "execution_count": 31,
   "id": "b61dc887",
   "metadata": {},
   "outputs": [
    {
     "name": "stdout",
     "output_type": "stream",
     "text": [
      "['apple', 'mango', 'banana', 'grape', 'kiwi']\n"
     ]
    }
   ],
   "source": [
    "fruits.remove ('orange')\n",
    "\n",
    "print(fruits)"
   ]
  },
  {
   "cell_type": "markdown",
   "id": "98f745f1",
   "metadata": {},
   "source": [
    "# Question 2: Slicing and Indexing"
   ]
  },
  {
   "cell_type": "markdown",
   "id": "51a9746a",
   "metadata": {},
   "source": [
    "a) Create a list named `numbers` containing the integers from 0 to 9."
   ]
  },
  {
   "cell_type": "code",
   "execution_count": 32,
   "id": "e14ae305",
   "metadata": {},
   "outputs": [
    {
     "name": "stdout",
     "output_type": "stream",
     "text": [
      "[0, 1, 2, 3, 4, 5, 6, 7, 8, 9]\n"
     ]
    }
   ],
   "source": [
    "numbers = list(range(0,10))\n",
    "\n",
    "print(numbers)"
   ]
  },
  {
   "cell_type": "markdown",
   "id": "25f78679",
   "metadata": {},
   "source": [
    "b) Print the element at index 3."
   ]
  },
  {
   "cell_type": "code",
   "execution_count": 33,
   "id": "2be91319",
   "metadata": {},
   "outputs": [
    {
     "name": "stdout",
     "output_type": "stream",
     "text": [
      "3\n"
     ]
    }
   ],
   "source": [
    "print(numbers [3])"
   ]
  },
  {
   "cell_type": "markdown",
   "id": "e404d240",
   "metadata": {},
   "source": [
    "c) Print a sublist containing the elements from index 2 to 6 (inclusive)."
   ]
  },
  {
   "cell_type": "code",
   "execution_count": 38,
   "id": "206d7ca2",
   "metadata": {},
   "outputs": [
    {
     "name": "stdout",
     "output_type": "stream",
     "text": [
      "[2, 3, 4, 5, 6]\n"
     ]
    }
   ],
   "source": [
    "sub_list = numbers [2:7:1]\n",
    "\n",
    "print(sub_list)"
   ]
  },
  {
   "cell_type": "markdown",
   "id": "b1144340",
   "metadata": {},
   "source": [
    "d) Print the last three elements using negative indexing."
   ]
  },
  {
   "cell_type": "code",
   "execution_count": 63,
   "id": "d2dd1ded",
   "metadata": {},
   "outputs": [
    {
     "name": "stdout",
     "output_type": "stream",
     "text": [
      "[7, 8, 9]\n"
     ]
    }
   ],
   "source": [
    "last = numbers [-3:]\n",
    "\n",
    "print(last)"
   ]
  },
  {
   "cell_type": "markdown",
   "id": "4f9def2f",
   "metadata": {},
   "source": [
    "# Question 3: List Comprehension"
   ]
  },
  {
   "cell_type": "markdown",
   "id": "001ff950",
   "metadata": {},
   "source": [
    "a) Create a list named `squares` using a list comprehension that contains the squares of numbers from 1 to 10."
   ]
  },
  {
   "cell_type": "code",
   "execution_count": 89,
   "id": "02b16411",
   "metadata": {},
   "outputs": [
    {
     "name": "stdout",
     "output_type": "stream",
     "text": [
      "[1, 2, 3, 4, 5, 6, 7, 8, 9, 10]\n"
     ]
    },
    {
     "data": {
      "text/plain": [
       "[1, 4, 9, 16, 25, 36, 49, 64, 81, 100]"
      ]
     },
     "execution_count": 89,
     "metadata": {},
     "output_type": "execute_result"
    }
   ],
   "source": [
    "squares = list(range(1,11))\n",
    "\n",
    "print(squares)\n",
    "[i*i for i in squares]\n",
    "    \n"
   ]
  },
  {
   "cell_type": "markdown",
   "id": "c9c4355c",
   "metadata": {},
   "source": [
    "b) Create a new list named `even_squares` using a list comprehension that contains the squares of even numbers from the `squares` list."
   ]
  },
  {
   "cell_type": "code",
   "execution_count": 92,
   "id": "d74d3093",
   "metadata": {},
   "outputs": [
    {
     "name": "stdout",
     "output_type": "stream",
     "text": [
      "[2, 4, 6, 8, 10]\n"
     ]
    },
    {
     "data": {
      "text/plain": [
       "[4, 16, 36, 64, 100]"
      ]
     },
     "execution_count": 92,
     "metadata": {},
     "output_type": "execute_result"
    }
   ],
   "source": [
    "even_squares = list(squares[1::2])\n",
    "print(even_squares)\n",
    "\n",
    "[i*i for i in even_squares]"
   ]
  },
  {
   "cell_type": "markdown",
   "id": "cfd12395",
   "metadata": {},
   "source": [
    "# Question 4: List Manipulation"
   ]
  },
  {
   "cell_type": "markdown",
   "id": "8e77f62d",
   "metadata": {},
   "source": [
    "a) Create a list named `colors` containing the following items: \"red\", \"green\", \"blue\", \"yellow\", \"purple\"."
   ]
  },
  {
   "cell_type": "code",
   "execution_count": 4,
   "id": "26f8a20b",
   "metadata": {},
   "outputs": [
    {
     "name": "stdout",
     "output_type": "stream",
     "text": [
      "['red', 'green', 'blue', 'yellow', 'purple']\n"
     ]
    }
   ],
   "source": [
    "colors = [\"red\", \"green\", \"blue\", \"yellow\", \"purple\"]\n",
    "\n",
    "print(colors)"
   ]
  },
  {
   "cell_type": "markdown",
   "id": "ead5d679",
   "metadata": {},
   "source": [
    "b) Swap the first and last elements of the list."
   ]
  },
  {
   "cell_type": "code",
   "execution_count": 19,
   "id": "a214b068",
   "metadata": {},
   "outputs": [
    {
     "name": "stdout",
     "output_type": "stream",
     "text": [
      "['purple', 'green', 'blue', 'yellow', 'red']\n"
     ]
    }
   ],
   "source": [
    "colors = [\"red\", \"green\", \"blue\", \"yellow\", \"purple\"]\n",
    "\n",
    "colors [0] = \"purple\"\n",
    "colors [4] = \"red\"\n",
    "\n",
    "print (colors)"
   ]
  },
  {
   "cell_type": "markdown",
   "id": "1652ebef",
   "metadata": {},
   "source": [
    "c) Reverse the order of the list."
   ]
  },
  {
   "cell_type": "code",
   "execution_count": 27,
   "id": "52cdd6fe",
   "metadata": {},
   "outputs": [
    {
     "name": "stdout",
     "output_type": "stream",
     "text": [
      "['purple', 'yellow', 'blue', 'green', 'red']\n"
     ]
    }
   ],
   "source": [
    "colors = [\"red\", \"green\", \"blue\", \"yellow\", \"purple\"]\n",
    "colors.reverse ()\n",
    "\n",
    "print(colors)"
   ]
  },
  {
   "cell_type": "markdown",
   "id": "389d6668",
   "metadata": {},
   "source": [
    "d) Remove the second and third elements from the list."
   ]
  },
  {
   "cell_type": "code",
   "execution_count": 31,
   "id": "7f54dbff",
   "metadata": {},
   "outputs": [
    {
     "name": "stdout",
     "output_type": "stream",
     "text": [
      "['red', 'yellow', 'purple']\n"
     ]
    }
   ],
   "source": [
    "colors = [\"red\", \"green\", \"blue\", \"yellow\", \"purple\"]\n",
    "\n",
    "colors.remove(\"green\")\n",
    "colors.remove(\"blue\")\n",
    "\n",
    "print(colors)\n"
   ]
  },
  {
   "cell_type": "markdown",
   "id": "c3c2217c",
   "metadata": {},
   "source": [
    "# Question 5: Advanced Slicing"
   ]
  },
  {
   "cell_type": "markdown",
   "id": "2b495426",
   "metadata": {},
   "source": [
    "a) Create a list named `letters` containing the letters from 'a' to 'j'."
   ]
  },
  {
   "cell_type": "code",
   "execution_count": 42,
   "id": "8fb788b0",
   "metadata": {},
   "outputs": [
    {
     "name": "stdout",
     "output_type": "stream",
     "text": [
      "['a', 'b', 'c', 'd', 'e', 'f', 'g', 'h', 'i', 'j']\n"
     ]
    }
   ],
   "source": [
    "letters = [i for i in \"abcdefghij\"]\n",
    "\n",
    "print(letters)"
   ]
  },
  {
   "cell_type": "markdown",
   "id": "60693c4e",
   "metadata": {},
   "source": [
    "b) Using slicing, create a new list `first_half` containing the first half of the `letters` list."
   ]
  },
  {
   "cell_type": "code",
   "execution_count": 46,
   "id": "0f20d821",
   "metadata": {},
   "outputs": [
    {
     "name": "stdout",
     "output_type": "stream",
     "text": [
      "['a', 'b', 'c', 'd', 'e']\n"
     ]
    }
   ],
   "source": [
    "first_half = letters [0:5:]\n",
    "\n",
    "print(first_half)"
   ]
  },
  {
   "cell_type": "markdown",
   "id": "4e2a9804",
   "metadata": {},
   "source": [
    "c) Using slicing, create a new list `last_three` containing the last three elements of the `letters` list."
   ]
  },
  {
   "cell_type": "code",
   "execution_count": 48,
   "id": "d24ac806",
   "metadata": {},
   "outputs": [
    {
     "name": "stdout",
     "output_type": "stream",
     "text": [
      "['h', 'i', 'j']\n"
     ]
    }
   ],
   "source": [
    "last_three = letters [7::]\n",
    "\n",
    "print(last_three)"
   ]
  },
  {
   "cell_type": "markdown",
   "id": "265e4752",
   "metadata": {},
   "source": [
    "# Question 6: Nested Lists# Question 6: Nested Lists"
   ]
  },
  {
   "cell_type": "markdown",
   "id": "dbe9429d",
   "metadata": {},
   "source": [
    "a) Create a nested list named `matrix` with the following rows:\n",
    "\n",
    "- [1, 2, 3]\n",
    "- [4, 5, 6]\n",
    "- [7, 8, 9]\n"
   ]
  },
  {
   "cell_type": "code",
   "execution_count": 17,
   "id": "62104346",
   "metadata": {},
   "outputs": [
    {
     "name": "stdout",
     "output_type": "stream",
     "text": [
      "[1, 2, 3]\n",
      "[4, 5, 6]\n",
      "[7, 8, 9]\n"
     ]
    }
   ],
   "source": [
    "matrix = [i for i in range (0, 10)]\n",
    "\n",
    "\n",
    "print([i for i in matrix [1:4:]])\n",
    "print([i for i in matrix [4:7:]])\n",
    "print([i for i in matrix [7:10:]])\n",
    "\n",
    "#[i for i in matrix [4:7:]]\n",
    "#[i for i in matrix [7:10:]]\n",
    "\n",
    "\n",
    "#print(matrix)"
   ]
  },
  {
   "cell_type": "markdown",
   "id": "f0069e5d",
   "metadata": {},
   "source": [
    "b) Print the element in the second row and third column."
   ]
  },
  {
   "cell_type": "code",
   "execution_count": 29,
   "id": "f81a6a5e",
   "metadata": {},
   "outputs": [
    {
     "name": "stdout",
     "output_type": "stream",
     "text": [
      "6\n"
     ]
    }
   ],
   "source": [
    "matrix = [i for i in range (0,10)]\n",
    "numbers = [i for i in matrix [4:7:]]\n",
    "\n",
    "print(numbers [2])\n",
    "\n"
   ]
  },
  {
   "cell_type": "markdown",
   "id": "02ae768d",
   "metadata": {},
   "source": [
    "c) Use nested indexing to change the value at the second row and first column to 0."
   ]
  },
  {
   "cell_type": "code",
   "execution_count": 30,
   "id": "98287b5f",
   "metadata": {},
   "outputs": [
    {
     "name": "stdout",
     "output_type": "stream",
     "text": [
      "[0, 5, 6]\n"
     ]
    }
   ],
   "source": [
    "matrix = [i for i in range (0, 10)]\n",
    "numbers = [i for i in matrix [4:7:]]\n",
    "\n",
    "numbers [0] = 0\n",
    "\n",
    "print (numbers)"
   ]
  },
  {
   "cell_type": "code",
   "execution_count": null,
   "id": "59de0356",
   "metadata": {},
   "outputs": [],
   "source": []
  }
 ],
 "metadata": {
  "kernelspec": {
   "display_name": "Python 3 (ipykernel)",
   "language": "python",
   "name": "python3"
  },
  "language_info": {
   "codemirror_mode": {
    "name": "ipython",
    "version": 3
   },
   "file_extension": ".py",
   "mimetype": "text/x-python",
   "name": "python",
   "nbconvert_exporter": "python",
   "pygments_lexer": "ipython3",
   "version": "3.11.3"
  }
 },
 "nbformat": 4,
 "nbformat_minor": 5
}
